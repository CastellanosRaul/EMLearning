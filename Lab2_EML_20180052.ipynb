{
 "cells": [
  {
   "cell_type": "markdown",
   "metadata": {},
   "source": [
    "## Lab 2, Raul Castellanos 20180052"
   ]
  },
  {
   "cell_type": "code",
   "execution_count": 6,
   "metadata": {},
   "outputs": [],
   "source": [
    "import numpy as np"
   ]
  },
  {
   "cell_type": "markdown",
   "metadata": {},
   "source": [
    "## Problema 1"
   ]
  },
  {
   "cell_type": "code",
   "execution_count": 48,
   "metadata": {},
   "outputs": [
    {
     "name": "stdout",
     "output_type": "stream",
     "text": [
      "[[1 1 0 0 0 0 1]\n",
      " [0 1 1 0 0 1 0]\n",
      " [0 0 1 1 0 0 0]\n",
      " [0 0 0 1 1 0 1]\n",
      " [1 0 0 0 0 1 1]\n",
      " [0 0 0 0 1 1 1]\n",
      " [1 1 1 0 0 0 1]]\n",
      "\n",
      "\n",
      "[[1 1 0 0 0 1 1]\n",
      " [1 1 1 0 1 0 0]\n",
      " [0 1 1 1 1 0 0]\n",
      " [0 0 1 1 0 0 1]\n",
      " [0 1 1 0 1 1 1]\n",
      " [1 0 0 0 1 1 1]\n",
      " [1 0 0 1 1 1 1]]\n",
      "\n",
      "\n",
      "[[1 1 0 0 0 0 0]\n",
      " [1 1 0 0 0 0 0]\n",
      " [0 0 1 1 0 0 0]\n",
      " [0 0 1 1 0 0 0]\n",
      " [0 0 0 0 1 1 1]\n",
      " [0 0 0 0 1 1 1]\n",
      " [0 0 0 0 1 1 1]]\n"
     ]
    }
   ],
   "source": [
    "M = np.array([\n",
    "    [1,1,0,0,0,0,1],\n",
    "    [0,1,1,0,0,1,0],\n",
    "    [0,0,1,1,0,0,0],\n",
    "    [0,0,0,1,1,0,1],\n",
    "    [1,0,0,0,0,1,1],\n",
    "    [0,0,0,0,1,1,1],\n",
    "    [1,1,1,0,0,0,1]\n",
    "])\n",
    "\n",
    "M1 = np.array([\n",
    "    [1,1,0,0,0,1,1],\n",
    "    [1,1,1,0,1,0,0],\n",
    "    [0,1,1,1,1,0,0],\n",
    "    [0,0,1,1,0,0,1],\n",
    "    [0,1,1,0,1,1,1],\n",
    "    [1,0,0,0,1,1,1],\n",
    "    [1,0,0,1,1,1,1]\n",
    "])\n",
    "\n",
    "M2 = np.array([\n",
    "    [1,1,0,0,0,0,0],\n",
    "    [1,1,0,0,0,0,0],\n",
    "    [0,0,1,1,0,0,0],\n",
    "    [0,0,1,1,0,0,0],\n",
    "    [0,0,0,0,1,1,1],\n",
    "    [0,0,0,0,1,1,1],\n",
    "    [0,0,0,0,1,1,1]\n",
    "])\n",
    "\n",
    "print(M)\n",
    "print('\\n')\n",
    "print(M1)\n",
    "print('\\n')\n",
    "print(M2)"
   ]
  },
  {
   "cell_type": "code",
   "execution_count": 62,
   "metadata": {},
   "outputs": [
    {
     "name": "stdout",
     "output_type": "stream",
     "text": [
      "Para M\n",
      "La relación R no es reflexiva\n",
      "\n",
      "\n",
      "Para M1\n",
      "La relación R es reflexiva\n",
      "\n",
      "\n",
      "Para M2\n",
      "La relación R es reflexiva\n",
      "\n",
      "\n",
      "Para M\n",
      "La relación R no es simétrica\n",
      "\n",
      "\n",
      "Para M1\n",
      "La relación R es simétrica\n",
      "\n",
      "\n",
      "Para M2\n",
      "La relación R es simétrica\n",
      "\n",
      "\n",
      "Para M\n",
      "La relación R no es transitiva\n",
      "\n",
      "\n",
      "Para M1\n",
      "La relación R no es transitiva\n",
      "\n",
      "\n",
      "Para M2\n",
      "La relación R es transitiva\n",
      "\n",
      "\n"
     ]
    }
   ],
   "source": [
    "def R_Reflexiva(m):\n",
    "    if (np.diagonal(m).sum() == m.shape[0]):\n",
    "        print('La relación R es reflexiva')\n",
    "    else: print('La relación R no es reflexiva')\n",
    "        \n",
    "print('Para M')\n",
    "R_Reflexiva(M)\n",
    "print('\\n')\n",
    "\n",
    "print('Para M1')\n",
    "R_Reflexiva(M1)\n",
    "print('\\n')\n",
    "\n",
    "print('Para M2')\n",
    "R_Reflexiva(M2)\n",
    "print('\\n')\n",
    "\n",
    "\n",
    "def R_Simetrica(m):\n",
    "    if ((m==np.transpose(m)).all()):\n",
    "        print('La relación R es simétrica')\n",
    "    else: print('La relación R no es simétrica')\n",
    "        \n",
    "print('Para M')\n",
    "R_Simetrica(M)\n",
    "print('\\n')\n",
    "\n",
    "print('Para M1')\n",
    "R_Simetrica(M1)\n",
    "print('\\n')\n",
    "\n",
    "print('Para M2')\n",
    "R_Simetrica(M2)\n",
    "print('\\n')\n",
    "\n",
    "\n",
    "def R_Transitiva(m):\n",
    "    M = m.dot(m)\n",
    "    M[M>=1] = 1\n",
    "    if ((m==M).all()):\n",
    "        print('La relación R es transitiva')\n",
    "    else: print('La relación R no es transitiva')\n",
    "        \n",
    "print('Para M')\n",
    "R_Transitiva(M)\n",
    "print('\\n')\n",
    "\n",
    "print('Para M1')\n",
    "R_Transitiva(M1)\n",
    "print('\\n')\n",
    "\n",
    "print('Para M2')\n",
    "R_Transitiva(M2)\n",
    "print('\\n')\n"
   ]
  },
  {
   "cell_type": "markdown",
   "metadata": {},
   "source": [
    "## Problema 2"
   ]
  },
  {
   "cell_type": "code",
   "execution_count": 11,
   "metadata": {},
   "outputs": [
    {
     "data": {
      "text/plain": [
       "array([[5, 6],\n",
       "       [7, 8]])"
      ]
     },
     "execution_count": 11,
     "metadata": {},
     "output_type": "execute_result"
    }
   ],
   "source": [
    "A = np.arange(5,9).reshape(2,2)\n",
    "A"
   ]
  },
  {
   "cell_type": "code",
   "execution_count": 12,
   "metadata": {},
   "outputs": [
    {
     "data": {
      "text/plain": [
       "array([[-7, -6, -5],\n",
       "       [-4, -3, -2]])"
      ]
     },
     "execution_count": 12,
     "metadata": {},
     "output_type": "execute_result"
    }
   ],
   "source": [
    "B = np.arange(-7,-1).reshape(2,3)\n",
    "B"
   ]
  },
  {
   "cell_type": "code",
   "execution_count": 13,
   "metadata": {},
   "outputs": [
    {
     "data": {
      "text/plain": [
       "array([[ 4,  7],\n",
       "       [10, 13]])"
      ]
     },
     "execution_count": 13,
     "metadata": {},
     "output_type": "execute_result"
    }
   ],
   "source": [
    "C = np.arange(4,14,3).reshape(2,2)\n",
    "C"
   ]
  },
  {
   "cell_type": "code",
   "execution_count": 14,
   "metadata": {},
   "outputs": [
    {
     "data": {
      "text/plain": [
       "array([[1., 0.],\n",
       "       [0., 1.]])"
      ]
     },
     "execution_count": 14,
     "metadata": {},
     "output_type": "execute_result"
    }
   ],
   "source": [
    "D = np.eye(2)\n",
    "D"
   ]
  },
  {
   "cell_type": "code",
   "execution_count": 18,
   "metadata": {},
   "outputs": [
    {
     "data": {
      "text/plain": [
       "array([[0., 0., 0.],\n",
       "       [0., 0., 0.]])"
      ]
     },
     "execution_count": 18,
     "metadata": {},
     "output_type": "execute_result"
    }
   ],
   "source": [
    "E = np.zeros(6).reshape(2,3)\n",
    "E"
   ]
  },
  {
   "cell_type": "code",
   "execution_count": 21,
   "metadata": {},
   "outputs": [
    {
     "data": {
      "text/plain": [
       "array([[ 5.,  6.,  1.,  0.,  0.,  0.,  0.],\n",
       "       [ 7.,  8.,  0.,  1.,  0.,  0.,  0.],\n",
       "       [ 1.,  0.,  4.,  7., -7., -6., -5.],\n",
       "       [ 0.,  1., 10., 13., -4., -3., -2.]])"
      ]
     },
     "execution_count": 21,
     "metadata": {},
     "output_type": "execute_result"
    }
   ],
   "source": [
    "# Arriba \n",
    "H1 = np.hstack([A,D,E])\n",
    "\n",
    "# Abajo\n",
    "H2 = np.hstack([D,C,B])\n",
    "\n",
    "H = np.vstack([H1,H2])\n",
    "H"
   ]
  },
  {
   "cell_type": "markdown",
   "metadata": {},
   "source": [
    "## Problema 3"
   ]
  },
  {
   "cell_type": "code",
   "execution_count": 28,
   "metadata": {},
   "outputs": [
    {
     "data": {
      "text/plain": [
       "array([[ 0,  1,  2,  3,  4,  5],\n",
       "       [ 6,  7,  8,  9, 10, 11],\n",
       "       [12, 13, 14, 15, 16, 17],\n",
       "       [18, 19, 20, 21, 22, 23]])"
      ]
     },
     "execution_count": 28,
     "metadata": {},
     "output_type": "execute_result"
    }
   ],
   "source": [
    "A3 = np.arange(0,24).reshape(4,6)\n",
    "A3"
   ]
  },
  {
   "cell_type": "code",
   "execution_count": 32,
   "metadata": {},
   "outputs": [
    {
     "name": "stdout",
     "output_type": "stream",
     "text": [
      "Rota 90 grados \n",
      " [[ 5 11 17 23]\n",
      " [ 4 10 16 22]\n",
      " [ 3  9 15 21]\n",
      " [ 2  8 14 20]\n",
      " [ 1  7 13 19]\n",
      " [ 0  6 12 18]] \n",
      "\n",
      "Rota 180 grados \n",
      " [[23 22 21 20 19 18]\n",
      " [17 16 15 14 13 12]\n",
      " [11 10  9  8  7  6]\n",
      " [ 5  4  3  2  1  0]] \n",
      "\n",
      "Rota 270 grados \n",
      " [[18 12  6  0]\n",
      " [19 13  7  1]\n",
      " [20 14  8  2]\n",
      " [21 15  9  3]\n",
      " [22 16 10  4]\n",
      " [23 17 11  5]] \n",
      "\n"
     ]
    }
   ],
   "source": [
    "def g90(m): \n",
    "    x = np.transpose(m)\n",
    "    print('Rota 90 grados \\n', np.flip(x,0), '\\n')\n",
    "    \n",
    "g90(A3)\n",
    "\n",
    "def g180(m): \n",
    "    x = np.flip(m)\n",
    "    print('Rota 180 grados \\n', x, '\\n')\n",
    "g180(A3)\n",
    "\n",
    "def g270(m): \n",
    "    x = np.flip(m,0)\n",
    "    print('Rota 270 grados \\n', np.transpose(x), '\\n')\n",
    "g270(A3)"
   ]
  },
  {
   "cell_type": "code",
   "execution_count": 36,
   "metadata": {},
   "outputs": [
    {
     "name": "stdout",
     "output_type": "stream",
     "text": [
      "Rota 90 grados contra reloj \n",
      " [[18 12  6  0]\n",
      " [19 13  7  1]\n",
      " [20 14  8  2]\n",
      " [21 15  9  3]\n",
      " [22 16 10  4]\n",
      " [23 17 11  5]] \n",
      "\n",
      "Rota 180 grados contra reloj \n",
      " [[23 22 21 20 19 18]\n",
      " [17 16 15 14 13 12]\n",
      " [11 10  9  8  7  6]\n",
      " [ 5  4  3  2  1  0]] \n",
      "\n",
      "Rota 270 grados contra reloj \n",
      " [[ 5 11 17 23]\n",
      " [ 4 10 16 22]\n",
      " [ 3  9 15 21]\n",
      " [ 2  8 14 20]\n",
      " [ 1  7 13 19]\n",
      " [ 0  6 12 18]] \n",
      "\n"
     ]
    }
   ],
   "source": [
    "# Al reves \n",
    "def g90_2(m): \n",
    "    x = np.transpose(m)\n",
    "    print('Rota 90 grados contra reloj \\n', np.flip(x,1), '\\n')\n",
    "    \n",
    "g90_2(A3)\n",
    "\n",
    "def g180_2(m): \n",
    "    x = np.flip(m)\n",
    "    print('Rota 180 grados contra reloj \\n', x, '\\n')\n",
    "g180_2(A3)\n",
    "\n",
    "def g270_2(m):\n",
    "    x = np.transpose(m)\n",
    "    print('Rota 270 grados contra reloj \\n', np.flip(x,0), '\\n')\n",
    "g270_2(A3)"
   ]
  },
  {
   "cell_type": "markdown",
   "metadata": {},
   "source": [
    "## Problema 4"
   ]
  },
  {
   "cell_type": "markdown",
   "metadata": {},
   "source": [
    "### 2x + 1a = 4\n",
    "### x + a = 3\n",
    "### -x + 2a = 3 \n",
    "### 2y + b = 3\n",
    "### y + b = 2\n",
    "### -y + 2b = 1\n",
    "### 2z + c = 6\n",
    "### z + c = 4\n",
    "### -z + 2c = 2\n",
    "### 2t + d = -3\n",
    "### t + d = -1\n",
    "### -t + 2d = 4\n",
    "\n",
    "## Estructura [ x, y, z, a, b , c, d, t]"
   ]
  },
  {
   "cell_type": "code",
   "execution_count": 47,
   "metadata": {},
   "outputs": [
    {
     "name": "stdout",
     "output_type": "stream",
     "text": [
      "[[ 2  0  0  1  0  0  0  0]\n",
      " [ 1  0  0  1  0  0  0  0]\n",
      " [-1  0  0  2  0  0  0  0]\n",
      " [ 0  2  0  0  1  0  0  0]\n",
      " [ 0  1  0  0  1  0  0  0]\n",
      " [ 0 -1  0  0  2  0  0  0]\n",
      " [ 0  0  2  0  0  1  0  0]\n",
      " [ 0  0  1  0  0  1  0  0]\n",
      " [ 0  0 -1  0  0  2  0  0]\n",
      " [ 0  0  0  0  0  0  1  2]\n",
      " [ 0  0  0  0  0  0  1  1]\n",
      " [ 0  0  0  0  0  0  2 -1]]\n",
      "\n",
      "\n",
      "[[ 4]\n",
      " [ 3]\n",
      " [ 3]\n",
      " [ 3]\n",
      " [ 2]\n",
      " [ 1]\n",
      " [ 6]\n",
      " [ 4]\n",
      " [ 2]\n",
      " [-3]\n",
      " [-1]\n",
      " [ 4]]\n",
      "\n",
      "\n"
     ]
    },
    {
     "name": "stderr",
     "output_type": "stream",
     "text": [
      "<ipython-input-47-c8264d94e594>:38: FutureWarning: `rcond` parameter will change to the default of machine precision times ``max(M, N)`` where M and N are the input matrix dimensions.\n",
      "To use the future default and silence this warning we advise to pass `rcond=None`, to keep using the old, explicitly pass `rcond=-1`.\n",
      "  Solucion_NoCuadrada = np.linalg.lstsq(X, R)\n"
     ]
    },
    {
     "data": {
      "text/plain": [
       "array([[ 1.],\n",
       "       [ 1.],\n",
       "       [ 2.],\n",
       "       [ 2.],\n",
       "       [ 1.],\n",
       "       [ 2.],\n",
       "       [ 1.],\n",
       "       [-2.]])"
      ]
     },
     "execution_count": 47,
     "metadata": {},
     "output_type": "execute_result"
    }
   ],
   "source": [
    "X = np.array([\n",
    "[2,0,0,1,0,0,0,0],\n",
    "[1,0,0,1,0,0,0,0],\n",
    "[-1,0,0,2,0,0,0,0],\n",
    "[0,2,0,0,1,0,0,0],\n",
    "[0,1,0,0,1,0,0,0],\n",
    "[0,-1,0,0,2,0,0,0],\n",
    "[0,0,2,0,0,1,0,0],\n",
    "[0,0,1,0,0,1,0,0],\n",
    "[0,0,-1,0,0,2,0,0],\n",
    "[0,0,0,0,0,0,1,2],\n",
    "[0,0,0,0,0,0,1,1],\n",
    "[0,0,0,0,0,0,2,-1]\n",
    "])\n",
    "\n",
    "R = np.array([\n",
    "    [4],\n",
    "    [3],\n",
    "    [3],\n",
    "    [3],\n",
    "    [2],\n",
    "    [1],\n",
    "    [6],\n",
    "    [4],\n",
    "    [2],\n",
    "    [-3],\n",
    "    [-1],\n",
    "    [4]\n",
    "])\n",
    "\n",
    "print(X)\n",
    "print('\\n')\n",
    "print(R)\n",
    "\n",
    "print('\\n')\n",
    "\n",
    "# Solucion 1 \n",
    "Solucion_NoCuadrada = np.linalg.lstsq(X, R)\n",
    "Solucion_NoCuadrada[0]\n",
    "\n",
    "# Solucion 2\n",
    "Solucion_NoCuadrada2 = np.linalg.pinv(X).dot(R)\n",
    "Solucion_NoCuadrada2"
   ]
  }
 ],
 "metadata": {
  "kernelspec": {
   "display_name": "Python 3",
   "language": "python",
   "name": "python3"
  },
  "language_info": {
   "codemirror_mode": {
    "name": "ipython",
    "version": 3
   },
   "file_extension": ".py",
   "mimetype": "text/x-python",
   "name": "python",
   "nbconvert_exporter": "python",
   "pygments_lexer": "ipython3",
   "version": "3.8.5"
  }
 },
 "nbformat": 4,
 "nbformat_minor": 4
}
